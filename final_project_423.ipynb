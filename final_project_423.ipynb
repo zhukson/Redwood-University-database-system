{
  "nbformat": 4,
  "nbformat_minor": 0,
  "metadata": {
    "colab": {
      "name": "final project 423.ipynb",
      "provenance": [],
      "collapsed_sections": []
    },
    "kernelspec": {
      "name": "python3",
      "display_name": "Python 3"
    },
    "language_info": {
      "name": "python"
    }
  },
  "cells": [
    {
      "cell_type": "markdown",
      "source": [
        "# Create tables"
      ],
      "metadata": {
        "id": "VCRiTKRN8QlO"
      }
    },
    {
      "cell_type": "code",
      "execution_count": 91,
      "metadata": {
        "colab": {
          "base_uri": "https://localhost:8080/",
          "height": 0
        },
        "id": "2UeIu8lukxpm",
        "outputId": "a8d5fe9c-998c-43cb-93f7-582aec89657c"
      },
      "outputs": [
        {
          "output_type": "execute_result",
          "data": {
            "text/plain": [
              "<sqlite3.Cursor at 0x7efc29be73b0>"
            ]
          },
          "metadata": {},
          "execution_count": 91
        }
      ],
      "source": [
        "import sqlite3\n",
        "import pandas as pd\n",
        "\n",
        "# Connects to an existing database file in the current directory\n",
        "# If the file does not exist, it creates it in the current directory\n",
        "db_connect = sqlite3.connect('test.db')\n",
        "\n",
        "# Instantiate cursor object for executing queries\n",
        "cursor = db_connect.cursor()\n",
        "\n",
        "# String variable for passing queries to cursor\n",
        "query_Department = \"\"\"\n",
        "    CREATE TABLE Department(\n",
        "    Department_id varchar(30) NOT NULL PRIMARY KEY,\n",
        "    Department_name varchar(50) NOT NULL\n",
        "    Check(Department_name LIKE '%Department%'),\n",
        "    Chair_name varchar(50),\n",
        "    Num_faculty int\n",
        ")\n",
        " \"\"\"\n",
        "\n",
        "query_major = \"\"\"\n",
        "    CREATE TABLE Major(\n",
        "    Major_code varchar(3) NOT NULL PRIMARY KEY\n",
        "    CHECK(length(Major_code)=3),\n",
        "    Major_name varchar(50) NOT NULL,\n",
        "    Department_id varchar(30) NOT NULL, \n",
        "    FOREIGN KEY(Department_id) REFERENCES Department(Department_id)\n",
        ")\n",
        " \"\"\"\n",
        "\n",
        "query_student = \"\"\"\n",
        "    CREATE TABLE Student(\n",
        "    Student_id varchar(50) NOT NULL PRIMARY KEY,\n",
        "    Student_initials varchar(30)\n",
        "    CHECK (length(Student_initials)>1),\n",
        "    Student_name varchar(50)\n",
        ")\n",
        "\"\"\"\n",
        "\n",
        "query_event = \"\"\"\n",
        "    CREATE TABLE Event(\n",
        "    Event_id varchar(50) NOT NULL PRIMARY KEY,\n",
        "    Event_name varchar(50) NOT NULL,\n",
        "    Start_date date\n",
        "    CHECK(Start_date > date('2021-12-9')),\n",
        "    End_date date\n",
        "    CHECK(End_date > date('2021-12-9')),\n",
        "    CHECK(End_date > Start_date)\n",
        ")\n",
        "\"\"\"\n",
        "\n",
        "query_Student_event = \"\"\"\n",
        "    CREATE TABLE Student_event(\n",
        "    Student_id varchar(50) NOT NULL,\n",
        "    Event_id varchar(30) NOT NULL,\n",
        "    PRIMARY KEY(Student_id, Event_id),\n",
        "    Foreign key(Student_id) references Student (Student_id) on delete cascade,\n",
        "    Foreign key(Event_id) references Event (Event_id) on delete cascade\n",
        ")\n",
        "\"\"\"\n",
        "\n",
        "query_Student_major = \"\"\"\n",
        "    CREATE TABLE Student_major(\n",
        "    Student_id varchar(50) NOT NULL,\n",
        "    Major_code varchar(3) NOT NULL,\n",
        "    PRIMARY KEY(Student_id, Major_code),\n",
        "    Foreign key(Student_id) references Student (Student_id) ON DELETE CASCADE,\n",
        "    Foreign key(Major_code) references Major (Major_code) ON DELETE CASCADE\n",
        ")\n",
        "\"\"\"\n",
        "\n",
        "query_Department_Event = \"\"\"\n",
        "    CREATE TABLE Department_Event(\n",
        "    Department_id varchar(30) NOT NULL,\n",
        "    Event_id varchar(50) NOT NULL,\n",
        "    PRIMARY KEY(Department_id, Event_id),\n",
        "    Foreign key (Department_id) references Department(Department_id) ON DELETE CASCADE,\n",
        "    Foreign key (Event_id) references Event (Event_id) ON DELETE CASCADE\n",
        ")\n",
        "\"\"\"\n",
        "\n",
        "# Execute query, the result is stored in cursor\n",
        "cursor.execute(query_Department)\n",
        "cursor.execute(query_major)\n",
        "cursor.execute(query_student)\n",
        "cursor.execute(query_event)\n",
        "cursor.execute(query_Student_event)\n",
        "cursor.execute(query_Student_major)\n",
        "cursor.execute(query_Department_Event)\n",
        "\n"
      ]
    },
    {
      "cell_type": "markdown",
      "source": [
        "# insert 5 columns into each table"
      ],
      "metadata": {
        "id": "rqzlTWFq8UWT"
      }
    },
    {
      "cell_type": "code",
      "source": [
        "# Insert row into table\n",
        "query_Department = []\n",
        "query_Department.append(\"\"\"INSERT INTO Department VALUES('AS','ART and SCIENCE Department', 'JACK', 105)\"\"\")\n",
        "query_Department.append(\"\"\"INSERT INTO Department VALUES('COMP', 'COMPUTER SCIENCE Department', 'Vic', 76) \"\"\")\n",
        "query_Department.append(\"\"\"INSERT INTO Department VALUES('ENG', 'Engineering Department', 'Mike', 90) \"\"\")\n",
        "query_Department.append(\"\"\"INSERT INTO Department VALUES('MSC', 'Music Department', 'Jacob', 98) \"\"\")\n",
        "query_Department.append(\"\"\"INSERT INTO Department VALUES('ECON', 'ECONOMICS Department', 'Nancy', 120) \"\"\")\n",
        "query_major = []\n",
        "query_major.append(\"\"\"INSERT INTO Major VALUES('ART','ARTIFICIAL INTELLIGENCE','COMP') \"\"\")\n",
        "query_major.append(\"\"\"INSERT INTO Major VALUES('CSC','Computer Science', 'COMP') \"\"\")\n",
        "query_major.append(\"\"\"INSERT INTO Major VALUES('JAZ','JAZZ','MSC') \"\"\")\n",
        "query_major.append(\"\"\"INSERT INTO Major VALUES('FRN','FRENCH','AS') \"\"\")\n",
        "query_major.append(\"\"\"INSERT INTO Major VALUES('ECE','Electricity Engineering', 'ENG') \"\"\")\n",
        "query_student = []\n",
        "query_student.append(\"\"\"INSERT INTO Student VALUES('A10001', 'LEO','LEONARDO') \"\"\")\n",
        "query_student.append(\"\"\"INSERT INTO Student VALUES('A10002','STE','STEFEN') \"\"\")\n",
        "query_student.append(\"\"\"INSERT INTO Student VALUES('A10003','JAC','JACKADS') \"\"\")\n",
        "query_student.append(\"\"\"INSERT INTO Student VALUES('A10004','KO','KOKO') \"\"\")\n",
        "query_student.append(\"\"\"INSERT INTO Student VALUES('A10005','ZIP','ZIPEI')\"\"\")\n",
        "query_event = []\n",
        "query_event.append(\"\"\"INSERT INTO Event VALUES('E10001','HAPPY FITTING', date('2021-12-10'), date('2021-12-15')) \"\"\")\n",
        "query_event.append(\"\"\"INSERT INTO Event VALUES('E10002','CAKES FESTIVAL', date('2021-12-13'),date('2021-12-14')) \"\"\")\n",
        "query_event.append(\"\"\"INSERT INTO Event VALUES('E10003','BOAT COMPETITION', date('2021-12-20'),date('2021-12-22')) \"\"\")\n",
        "query_event.append(\"\"\"INSERT INTO Event VALUES('E10004','VIDEO GAMES', date('2021-12-12'),date('2021-12-15')) \"\"\")\n",
        "query_event.append(\"\"\"INSERT INTO Event VALUES('E10005','FIND A JOB', date('2021-12-10'),date('2021-12-20')) \"\"\")\n",
        "query_Student_event = []\n",
        "query_Student_event.append(\"\"\"INSERT INTO Student_event VALUES('A10001','E10001') \"\"\")\n",
        "query_Student_event.append(\"\"\"INSERT INTO Student_event VALUES('A10002','E10002') \"\"\")\n",
        "query_Student_event.append(\"\"\"INSERT INTO Student_event VALUES('A10003','E10003') \"\"\")\n",
        "query_Student_event.append(\"\"\"INSERT INTO Student_event VALUES('A10004','E10004') \"\"\")\n",
        "query_Student_event.append(\"\"\"INSERT INTO Student_event VALUES('A10005','E10005') \"\"\")\n",
        "query_Student_major = []\n",
        "query_Student_major.append(\"\"\"INSERT INTO Student_major VALUES('A10001','CSC') \"\"\")\n",
        "query_Student_major.append(\"\"\"INSERT INTO Student_major VALUES('A10002','ECE') \"\"\")\n",
        "query_Student_major.append(\"\"\"INSERT INTO Student_major VALUES('A10003','JAZ') \"\"\")\n",
        "query_Student_major.append(\"\"\"INSERT INTO Student_major VALUES('A10004','FRN') \"\"\")\n",
        "query_Student_major.append(\"\"\"INSERT INTO Student_major VALUES('A10005','ART') \"\"\")\n",
        "query_Department_Event = []\n",
        "query_Department_Event.append(\"\"\"INSERT INTO Department_Event VALUES('COMP','E10001') \"\"\")\n",
        "query_Department_Event.append(\"\"\"INSERT INTO Department_Event VALUES('ENG','E10002') \"\"\")\n",
        "query_Department_Event.append(\"\"\"INSERT INTO Department_Event VALUES('MSC','E10003') \"\"\")\n",
        "query_Department_Event.append(\"\"\"INSERT INTO Department_Event VALUES('ECON','E10004') \"\"\")\n",
        "query_Department_Event.append(\"\"\"INSERT INTO Department_Event VALUES('AS','E10005') \"\"\")\n",
        "query_total = [query_Department, query_major, query_student, query_event, query_Student_event, query_Student_major, query_Department_Event]\n",
        "for i in query_total:\n",
        "  for j in i:\n",
        "    cursor.execute(j)"
      ],
      "metadata": {
        "id": "NBZBg8qzq6W1"
      },
      "execution_count": 92,
      "outputs": []
    },
    {
      "cell_type": "markdown",
      "source": [
        "# 5 sql quries test"
      ],
      "metadata": {
        "id": "bPnE7jg-8a6v"
      }
    },
    {
      "cell_type": "code",
      "source": [
        "# (1) List the number of the Faculty in the engineering department.\n",
        "query_1 = \"\"\"\n",
        "    SELECT NUM_faculty, Department_id, Department_name\n",
        "    FROM Department\n",
        "    where Department_id = 'ENG'\n",
        "    \"\"\"\n",
        "# (2) List the department information including the name, id, chair name belong to the computer science major.\n",
        "query_2 = \"\"\"    \n",
        "    SELECT d.Department_name, d.Department_id, d.Chair_name, m.Major_code\n",
        "    FROM Major m, Department d\n",
        "    WHERE m.Department_id = d.Department_id and m.Major_code = 'CSC'\n",
        "    \"\"\"\n",
        "# (3) List the Start Date, End_date of event named ‘HAPPY FITTING’\n",
        "query_3 = \"\"\"\n",
        "      select Start_date, End_date, Event_name\n",
        "      FROM Event\n",
        "      where Event_name = 'HAPPY FITTING'\n",
        "      \"\"\"\n",
        "\n",
        "# (4) List the Student id of those students who has major in ARTIFICIAL INTELLIGENCE.\n",
        "query_4 = \"\"\"\n",
        "      select k.Major_code, m.Major_name, k.Student_id\n",
        "      FROM Student_major k, Major m\n",
        "      WHERE k.Major_code = m.Major_code and m.Major_name = 'ARTIFICIAL INTELLIGENCE'\n",
        "\"\"\"\n",
        "\n",
        "# (5) List the event(s) hold by COMPUTER SCIENCE Department\n",
        "query_5 = \"\"\"\n",
        "      select d.Department_id, d.Department_name, k.Event_id, e.Event_name\n",
        "      FROM Department_Event k, Department d, Event e\n",
        "      WHERE d.Department_id = k.Department_id and d.Department_name = 'COMPUTER SCIENCE Department' and e.Event_id = k.Event_id\n",
        "\"\"\"\n",
        "\n",
        "print(\"(1) List the number of the Faculty in the engineering department\\n\")\n",
        "cursor.execute(query_1)\n",
        "column_names = [row[0] for row in cursor.description]\n",
        "table_data = cursor.fetchall()\n",
        "df = pd.DataFrame(table_data, columns=column_names)\n",
        "print(df)\n",
        "print(df.columns)\n",
        "print()\n",
        "print(\"(2) List the department information including the name, id, chair name belong to the computer science major.\\n\")\n",
        "cursor.execute(query_2)\n",
        "column_names = [row[0] for row in cursor.description]\n",
        "table_data = cursor.fetchall()\n",
        "df = pd.DataFrame(table_data, columns=column_names)\n",
        "print(df)\n",
        "print(df.columns)\n",
        "print()\n",
        "print(\"(3) List the Start Date, End_date of event named ‘HAPPY FITTING’\\n\")\n",
        "cursor.execute(query_3)\n",
        "column_names = [row[0] for row in cursor.description]\n",
        "table_data = cursor.fetchall()\n",
        "df = pd.DataFrame(table_data, columns=column_names)\n",
        "print(df)\n",
        "print(df.columns)\n",
        "print()\n",
        "print(\"(4) List the Student id of those students who has major in ARTIFICIAL INTELLIGENCE.\\n\")\n",
        "cursor.execute(query_4)\n",
        "column_names = [row[0] for row in cursor.description]\n",
        "table_data = cursor.fetchall()\n",
        "df = pd.DataFrame(table_data, columns=column_names)\n",
        "print(df)\n",
        "print(df.columns)\n",
        "print()\n",
        "print(\"(5) List the event(s) hold by COMPUTER SCIENCE Department\\n\")\n",
        "cursor.execute(query_5)\n",
        "column_names = [row[0] for row in cursor.description]\n",
        "table_data = cursor.fetchall()\n",
        "df = pd.DataFrame(table_data, columns=column_names)\n",
        "print(df)\n",
        "print(df.columns)\n",
        "print()\n"
      ],
      "metadata": {
        "colab": {
          "base_uri": "https://localhost:8080/",
          "height": 0
        },
        "id": "0B3HizRZqcDz",
        "outputId": "8e43b9fb-389c-4a33-d947-0257d283f800"
      },
      "execution_count": 93,
      "outputs": [
        {
          "output_type": "stream",
          "name": "stdout",
          "text": [
            "(1) List the number of the Faculty in the engineering department\n",
            "\n",
            "   Num_faculty Department_id         Department_name\n",
            "0           90           ENG  Engineering Department\n",
            "Index(['Num_faculty', 'Department_id', 'Department_name'], dtype='object')\n",
            "\n",
            "(2) List the department information including the name, id, chair name belong to the computer science major.\n",
            "\n",
            "               Department_name Department_id Chair_name Major_code\n",
            "0  COMPUTER SCIENCE Department          COMP        Vic        CSC\n",
            "Index(['Department_name', 'Department_id', 'Chair_name', 'Major_code'], dtype='object')\n",
            "\n",
            "(3) List the Start Date, End_date of event named ‘HAPPY FITTING’\n",
            "\n",
            "   Start_date    End_date     Event_name\n",
            "0  2021-12-10  2021-12-15  HAPPY FITTING\n",
            "Index(['Start_date', 'End_date', 'Event_name'], dtype='object')\n",
            "\n",
            "(4) List the Student id of those students who has major in ARTIFICIAL INTELLIGENCE.\n",
            "\n",
            "  Major_code               Major_name Student_id\n",
            "0        ART  ARTIFICIAL INTELLIGENCE     A10005\n",
            "Index(['Major_code', 'Major_name', 'Student_id'], dtype='object')\n",
            "\n",
            "(5) List the event(s) hold by COMPUTER SCIENCE Department\n",
            "\n",
            "  Department_id              Department_name Event_id     Event_name\n",
            "0          COMP  COMPUTER SCIENCE Department   E10001  HAPPY FITTING\n",
            "Index(['Department_id', 'Department_name', 'Event_id', 'Event_name'], dtype='object')\n",
            "\n"
          ]
        }
      ]
    },
    {
      "cell_type": "markdown",
      "source": [
        "# close the database"
      ],
      "metadata": {
        "id": "xJGf52Rt8fk7"
      }
    },
    {
      "cell_type": "code",
      "source": [
        "# Commit any changes to the database\n",
        "db_connect.commit()\n",
        "\n",
        "# Close the connection if we are done with it.\n",
        "# Just be sure any changes have been committed or they will be lost.\n",
        "db_connect.close()"
      ],
      "metadata": {
        "id": "P2k5jXLKvIQU"
      },
      "execution_count": 94,
      "outputs": []
    }
  ]
}